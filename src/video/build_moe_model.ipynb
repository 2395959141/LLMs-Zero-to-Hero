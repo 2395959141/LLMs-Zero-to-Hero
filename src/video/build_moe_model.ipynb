{
 "cells": [
  {
   "cell_type": "markdown",
   "metadata": {},
   "source": [
    "## 完全从零写一个 MOE 大模型（LLM）\n",
    "### Build a miniMoE-LLM from scratch\n",
    "- 从零开始构建 MoE 模型，从基础讲起，共讲解三个版本\n",
    "   - 基础版本，理解MOE\n",
    "   - SparseMoE，了解大模型怎么训练 MOE LLM\n",
    "   - ShareExpert SparseMoe，了解 deepseek 训练 MOE 模型算法\n",
    "- 运行代码完全手写，一行一行带着运行\n",
    "- 作者： **chaofa用代码打点酱油**\n",
    "\n",
    "欢迎阅读原文：[LLM MOE的进化之路，从普通简化 MOE，到 spare_moe，再到 deepseek 使用的 share_xpert_spare_moe](https://bruceyuan.com/llms-zero-to-hero/the-way-of-moe-model-evolution.html)\n",
    "\n",
    "待更新...\n"
   ]
  },
  {
   "cell_type": "code",
   "execution_count": null,
   "metadata": {
    "vscode": {
     "languageId": "plaintext"
    }
   },
   "outputs": [],
   "source": []
  }
 ],
 "metadata": {
  "language_info": {
   "name": "python"
  }
 },
 "nbformat": 4,
 "nbformat_minor": 2
}
